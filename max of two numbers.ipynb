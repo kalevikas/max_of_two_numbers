{
 "cells": [
  {
   "cell_type": "code",
   "execution_count": 1,
   "id": "2bf61246",
   "metadata": {},
   "outputs": [
    {
     "name": "stdout",
     "output_type": "stream",
     "text": [
      "enter a number: 45\n",
      "enter a number: 20\n",
      "45 is maximum number.\n"
     ]
    }
   ],
   "source": [
    "n1=int(input(\"enter a number: \"))\n",
    "n2=int(input(\"enter a number: \"))\n",
    "\n",
    "if n1>n2:\n",
    "    print(\"{} is maximum number.\".format(n1))\n",
    "else:\n",
    "    print(\"{} is maximum number.\".format(n2))"
   ]
  },
  {
   "cell_type": "code",
   "execution_count": null,
   "id": "81510c42",
   "metadata": {},
   "outputs": [],
   "source": []
  },
  {
   "cell_type": "code",
   "execution_count": 2,
   "id": "a0d3205c",
   "metadata": {},
   "outputs": [
    {
     "name": "stdout",
     "output_type": "stream",
     "text": [
      "enter a number: 80\n",
      "enter a number: 100\n",
      "100 is maximum number.\n"
     ]
    }
   ],
   "source": [
    "n1=int(input(\"enter a number: \"))\n",
    "n2=int(input(\"enter a number: \"))\n",
    "\n",
    "if n1>n2:\n",
    "    print(\"{} is maximum number.\".format(n1))\n",
    "else:\n",
    "    print(\"{} is maximum number.\".format(n2))"
   ]
  },
  {
   "cell_type": "code",
   "execution_count": 6,
   "id": "bd75b582",
   "metadata": {},
   "outputs": [],
   "source": [
    "def max(a,b):\n",
    "    if a>b:\n",
    "        print(\"%d is maximum number.\"%(a))\n",
    "    else:\n",
    "        print(\"%d is maximum number.\"%(b))"
   ]
  },
  {
   "cell_type": "code",
   "execution_count": 7,
   "id": "a9efb699",
   "metadata": {},
   "outputs": [
    {
     "name": "stdout",
     "output_type": "stream",
     "text": [
      "45 is maximum number.\n"
     ]
    }
   ],
   "source": [
    "max(45,20)"
   ]
  },
  {
   "cell_type": "code",
   "execution_count": 8,
   "id": "71ea0956",
   "metadata": {},
   "outputs": [
    {
     "name": "stdout",
     "output_type": "stream",
     "text": [
      "60 is maximum number.\n"
     ]
    }
   ],
   "source": [
    "max(50,60)"
   ]
  },
  {
   "cell_type": "code",
   "execution_count": 9,
   "id": "120d1a6d",
   "metadata": {},
   "outputs": [
    {
     "name": "stdout",
     "output_type": "stream",
     "text": [
      "8 is maximum number.\n"
     ]
    }
   ],
   "source": [
    "max(5,8)"
   ]
  },
  {
   "cell_type": "code",
   "execution_count": 17,
   "id": "47218722",
   "metadata": {},
   "outputs": [
    {
     "name": "stdout",
     "output_type": "stream",
     "text": [
      "enter a number: 41\n",
      "enter a number: 50\n",
      "50 is maximum number.\n",
      "None largest\n"
     ]
    }
   ],
   "source": [
    "from math import *\n",
    "num1=int(input(\"enter a number: \"))\n",
    "num2=int(input(\"enter a number: \"))\n",
    "x=max(num1,num2)\n",
    "print(x,\"largest\")"
   ]
  },
  {
   "cell_type": "code",
   "execution_count": null,
   "id": "86bc0361",
   "metadata": {},
   "outputs": [],
   "source": []
  }
 ],
 "metadata": {
  "kernelspec": {
   "display_name": "Python 3",
   "language": "python",
   "name": "python3"
  },
  "language_info": {
   "codemirror_mode": {
    "name": "ipython",
    "version": 3
   },
   "file_extension": ".py",
   "mimetype": "text/x-python",
   "name": "python",
   "nbconvert_exporter": "python",
   "pygments_lexer": "ipython3",
   "version": "3.8.8"
  }
 },
 "nbformat": 4,
 "nbformat_minor": 5
}
